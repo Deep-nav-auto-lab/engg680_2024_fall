{
 "cells": [
  {
   "cell_type": "markdown",
   "id": "HWXrzcz_y4W4",
   "metadata": {
    "id": "HWXrzcz_y4W4"
   },
   "source": [
    "# **ENGG680 - Introduction to Digital Engineering**\n",
    "## *Lab Assignment 1: Using Git and Python for Collaborative Coding in Google Colab*"
   ]
  },
  {
   "cell_type": "markdown",
   "id": "4fab98ae-2ed4-4d63-92bf-1de5dbb19934",
   "metadata": {},
   "source": [
    "## Preliminary: Certificate of Work\n",
    "### (5 Marks)"
   ]
  },
  {
   "cell_type": "markdown",
   "id": "8f496d8e-869b-4d21-aa88-60d8ae45ba61",
   "metadata": {},
   "source": [
    "*We, the undersigned, certify that this is our own work, which has been done expressly for this course, either without the assistance of any other party or where appropriate we have acknowledged the work of others. Further, we have read and understood the section in the university calendar on plagiarism/cheating/other academic misconduct and we are aware of the implications thereof. We request that the total mark for this assignment be distributed as follows among group members:*"
   ]
  },
  {
   "cell_type": "markdown",
   "id": "5d9b6a22-cf19-4a2b-8b01-8a2a2a0f1f1f",
   "metadata": {},
   "source": [
    "|          | First Name | Last Name | Signature (Full Name, Date) | Hours | Contribution % |\n",
    "|----------|------------|-----------|-----------------------------|-------|----------------|\n",
    "| Member 1: | First Name | Last Name | Signature | Hours | Contribution |\n",
    "| Member 2: | First Name | Last Name | Signature | Hours | Contribution |\n",
    "| Member 3: | First Name | Last Name | Signature | Hours | Contribution |\n",
    "| Member 4: | First Name | Last Name | Signature | Hours | Contribution |\n"
   ]
  },
  {
   "cell_type": "markdown",
   "id": "f1aa1475-009f-4697-b37a-e46286e2b792",
   "metadata": {
    "id": "f1aa1475-009f-4697-b37a-e46286e2b792"
   },
   "source": [
    "## Part 1: Printing to the Console\n",
    "### (6 Marks)"
   ]
  },
  {
   "cell_type": "code",
   "execution_count": null,
   "id": "78e4aa0e-2a7d-44cc-9f8b-b3593c1e8176",
   "metadata": {
    "id": "78e4aa0e-2a7d-44cc-9f8b-b3593c1e8176"
   },
   "outputs": [],
   "source": [
    "# In the space below, please print \"Hello, World! Welcome to the Student Gradebook Management System.\"\n",
    "# (1 mark)\n"
   ]
  },
  {
   "cell_type": "code",
   "execution_count": null,
   "id": "l3Venmnzsq2m",
   "metadata": {
    "id": "l3Venmnzsq2m"
   },
   "outputs": [],
   "source": [
    "# Fill in your information using the defined variables below:\n",
    "# (1 mark)\n",
    "lab_group_number =\n",
    "intake_year =\n",
    "intake_semester = \"\" #\"Fall\" or \"Winter\"\n",
    "\n",
    "# Using f-strings and the variables above, print \"This is implemented by Group <lab_group_number>, for ENGG680 <intake_semester> of <intake_year>\"\n",
    "# (2 marks)\n"
   ]
  },
  {
   "cell_type": "code",
   "execution_count": null,
   "id": "mTPZ16XEtnHV",
   "metadata": {
    "id": "mTPZ16XEtnHV"
   },
   "outputs": [],
   "source": [
    "# Use indexing to print \"The subjects involved in this grading system is English and Math.\" using \"subjects\" below.\n",
    "# (2 marks)\n",
    "subjects = (\"English\", \"Math\")\n"
   ]
  },
  {
   "cell_type": "markdown",
   "id": "b45a5575-8e77-4bba-8311-69f997affc35",
   "metadata": {
    "id": "b45a5575-8e77-4bba-8311-69f997affc35"
   },
   "source": [
    "## Part 2: Using Pandas for Data Management and Analytics\n",
    "### (20 marks)"
   ]
  },
  {
   "cell_type": "code",
   "execution_count": null,
   "id": "6dbaa42e-22e3-4aa6-9bd3-dd9ede274c17",
   "metadata": {
    "id": "6dbaa42e-22e3-4aa6-9bd3-dd9ede274c17"
   },
   "outputs": [],
   "source": [
    "# In the space below, please import the Pandas library\n",
    "# (1 mark)\n",
    "#"
   ]
  },
  {
   "cell_type": "code",
   "execution_count": null,
   "id": "cce8e74f-bba1-4bf4-baaf-13e23cdf4afc",
   "metadata": {
    "id": "cce8e74f-bba1-4bf4-baaf-13e23cdf4afc"
   },
   "outputs": [],
   "source": [
    "# Load the student grade CSV files into DataFrames using the defined variables\n",
    "# (2 marks)\n",
    "df_english =\n",
    "df_math ="
   ]
  },
  {
   "cell_type": "code",
   "execution_count": null,
   "id": "8fb240f4-6358-4f61-ab12-f0134c0144a8",
   "metadata": {
    "id": "8fb240f4-6358-4f61-ab12-f0134c0144a8"
   },
   "outputs": [],
   "source": [
    "# Merging the DataFrames on 'studentID'\n",
    "df_studentGrades = pd.merge(df_english, df_math, on='studentID', suffixes=('_English', '_Math'))"
   ]
  },
  {
   "cell_type": "code",
   "execution_count": null,
   "id": "a9e571ef-d61b-4594-a181-503dca3fe49b",
   "metadata": {
    "id": "a9e571ef-d61b-4594-a181-503dca3fe49b"
   },
   "outputs": [],
   "source": [
    "# Take a look at the data contained in the csv files. Why is studentID chosen as the key?\n",
    "# (1 mark)\n",
    "#"
   ]
  },
  {
   "cell_type": "code",
   "execution_count": null,
   "id": "e23aaa90-fb4c-43f9-a3fc-1ae850bf65ab",
   "metadata": {
    "id": "e23aaa90-fb4c-43f9-a3fc-1ae850bf65ab"
   },
   "outputs": [],
   "source": [
    "# Let's calculate the average GPA across the two classes for each student\n",
    "df_studentGrades['GPA'] = df_studentGrades[['grade_English', 'grade_Math']].mean(axis=1)\n",
    "\n",
    "# Now let's check the data! In the space below, please use the .head method to display the dataframe.\n",
    "# (1 mark)\n",
    "#"
   ]
  },
  {
   "cell_type": "code",
   "execution_count": null,
   "id": "9f28f907-7e7d-4be4-87b8-db03fef69dfa",
   "metadata": {
    "id": "9f28f907-7e7d-4be4-87b8-db03fef69dfa"
   },
   "outputs": [],
   "source": [
    "# Do you notice a problem? The rows for first name and last name have been duplicated!\n",
    "# .drop(columns=['<column_name1>','<column_name2>'] is a Pandas method that can be used to drop columns.\n",
    "# In the space below, drop the first name and last name associated with the math .csv file.\n",
    "# (2 mark)\n",
    "df_studentGrades = "
   ]
  },
  {
   "cell_type": "code",
   "execution_count": null,
   "id": "b58186b4-b60e-455a-990e-b24169964f98",
   "metadata": {
    "id": "b58186b4-b60e-455a-990e-b24169964f98"
   },
   "outputs": [],
   "source": [
    "# Let's display the data again. Use an appropriate method (hint: already used before)\n",
    "# (1 mark)\n",
    "#"
   ]
  },
  {
   "cell_type": "code",
   "execution_count": null,
   "id": "f0476460-6156-49ee-bc84-0878207e2dfa",
   "metadata": {
    "id": "f0476460-6156-49ee-bc84-0878207e2dfa"
   },
   "outputs": [],
   "source": [
    "# Let's also rename the first and last names appropriately.\n",
    "# Complete the code in the space below by replacing \"<>\" with the proper column name\n",
    "# (1 mark)\n",
    "\n",
    "df_studentGrades = df_studentGrades.rename(columns={\n",
    "    'firstName_English': 'firstName',\n",
    "    '<>': 'lastName',\n",
    "    '<>': 'englishGrade',\n",
    "    '<>': 'mathGrade'\n",
    "    })"
   ]
  },
  {
   "cell_type": "code",
   "execution_count": null,
   "id": "5c2b26e6-3c03-4950-b56d-5d00cf9361c4",
   "metadata": {
    "id": "5c2b26e6-3c03-4950-b56d-5d00cf9361c4"
   },
   "outputs": [],
   "source": [
    "# Now let's find out some statistics about our student grades!\n",
    "# Please use an appropriate Pandas method in the space below to display statistical values like\n",
    "# mean, standard deviation, min, max, and others.\n",
    "# (1 mark)\n",
    "#"
   ]
  },
  {
   "cell_type": "code",
   "execution_count": null,
   "id": "22589631-5517-4b64-937e-61a53ade15fa",
   "metadata": {
    "id": "22589631-5517-4b64-937e-61a53ade15fa"
   },
   "outputs": [],
   "source": [
    "# Do you notice a problem?\n",
    "# Some statistics are not relevant. The average of studentIDs have no meaning in reality!\n",
    "# Let's typecast each column appropriately so as to only get meaningful statistics.\n",
    "# In the code below, replace '<>' by choosing between 'str' for string or 'float' for float \n",
    "# to properly typecast each column.\n",
    "# (3 marks)\n",
    "df_studentGrades['studentID'] = df_studentGrades['studentID'].astype(<>)\n",
    "df_studentGrades['firstName'] = df_studentGrades['firstName'].astype(<>)\n",
    "df_studentGrades['lastName'] = df_studentGrades['lastName'].astype(<>)\n",
    "df_studentGrades['englishGrade'] = df_studentGrades['englishGrade'].astype(<>)\n",
    "df_studentGrades['mathGrade'] = df_studentGrades['mathGrade'].astype(<>)\n",
    "df_studentGrades['GPA'] = df_studentGrades['GPA'].astype(<>)"
   ]
  },
  {
   "cell_type": "code",
   "execution_count": null,
   "id": "6ab40afb-2787-45ab-a62b-e832fdee699d",
   "metadata": {
    "id": "6ab40afb-2787-45ab-a62b-e832fdee699d"
   },
   "outputs": [],
   "source": [
    "# Now let's see our statistics!\n",
    "df_studentGrades.describe()"
   ]
  },
  {
   "cell_type": "code",
   "execution_count": null,
   "id": "8wd6ggXcaszZ",
   "metadata": {
    "id": "8wd6ggXcaszZ"
   },
   "outputs": [],
   "source": [
    "# Now sort the merged dataframe so that it is in descending order based on GPA, and print it\n",
    "# (1 mark)\n",
    "df_studentsGPASorted ="
   ]
  },
  {
   "cell_type": "code",
   "execution_count": null,
   "id": "Y7Kjr1Jqbv_R",
   "metadata": {
    "id": "Y7Kjr1Jqbv_R"
   },
   "outputs": [],
   "source": [
    "# If we wanted to access the student with the highest gpa based on df_studentsGPASorted, \n",
    "# does .iloc or .loc make more sense and why?\n",
    "# (2 marks)\n",
    "#"
   ]
  },
  {
   "cell_type": "code",
   "execution_count": null,
   "id": "6pQN2HYDeMrm",
   "metadata": {
    "id": "6pQN2HYDeMrm"
   },
   "outputs": [],
   "source": [
    "# Now using the method you specified, assign the variable below to the row containing the student with the highest GPA\n",
    "# (1 mark)\n",
    "top_student ="
   ]
  },
  {
   "cell_type": "code",
   "execution_count": null,
   "id": "C-oIXOOwdpx2",
   "metadata": {
    "id": "C-oIXOOwdpx2"
   },
   "outputs": [],
   "source": [
    "# Now print the student first name and last name with the highest GPA in this format:\n",
    "# \"The student with the highest GPA is <firstName> <lastName> with a GPA of <GPA>\"\n",
    "# (1 mark)\n",
    "#"
   ]
  },
  {
   "cell_type": "code",
   "execution_count": null,
   "id": "4-U4nZbRee4x",
   "metadata": {
    "id": "4-U4nZbRee4x"
   },
   "outputs": [],
   "source": [
    "# We can use logical expressions to filter and print data. For example, let's print the students with math grades higher than 90:\n",
    "df_mathGrade_over90 = df_studentsGPASorted[df_studentsGPASorted['mathGrade'] > 90]\n",
    "print(df_mathGrade_over90)"
   ]
  },
  {
   "cell_type": "code",
   "execution_count": null,
   "id": "lTp6vfG2fVQM",
   "metadata": {
    "id": "lTp6vfG2fVQM"
   },
   "outputs": [],
   "source": [
    "# Now print the students whos GPA are lower than 85\n",
    "# (2 marks)\n",
    "#"
   ]
  },
  {
   "cell_type": "markdown",
   "id": "7zMefl3LSqQs",
   "metadata": {
    "id": "7zMefl3LSqQs"
   },
   "source": [
    "## Part 3: More Data Analytics using Pandas\n",
    "### (20 marks)"
   ]
  },
  {
   "cell_type": "code",
   "execution_count": null,
   "id": "F_W0PBCdSxg9",
   "metadata": {
    "id": "F_W0PBCdSxg9"
   },
   "outputs": [],
   "source": [
    "# Select the column 'grade' from the original English grade dataset and print it\n",
    "# (1 mark)\n",
    "#"
   ]
  },
  {
   "cell_type": "code",
   "execution_count": null,
   "id": "d_Mo59OuT0IV",
   "metadata": {
    "id": "d_Mo59OuT0IV"
   },
   "outputs": [],
   "source": [
    "# Select the column 'GPA' from the df_studentGrades and print it\n",
    "# (1 mark)\n",
    "#"
   ]
  },
  {
   "cell_type": "code",
   "execution_count": null,
   "id": "EdHYR2hYVbef",
   "metadata": {
    "id": "EdHYR2hYVbef"
   },
   "outputs": [],
   "source": [
    "# What is the data type of grade from the English grade dataset?\n",
    "# (0.5 mark)\n",
    "#\n",
    "\n",
    "# What is the data type of GPA from the merged dataset?\n",
    "# (0.5 mark)\n",
    "#\n",
    "\n",
    "# Is it different? Why?\n",
    "# (1 mark)\n",
    "#"
   ]
  },
  {
   "cell_type": "code",
   "execution_count": null,
   "id": "chmwegDeV6Dr",
   "metadata": {
    "id": "chmwegDeV6Dr"
   },
   "outputs": [],
   "source": [
    "# Load the student homeroom CSV file into a DataFrame using the following variable name\n",
    "# (1 mark)\n",
    "df_homeroom ="
   ]
  },
  {
   "cell_type": "code",
   "execution_count": null,
   "id": "7ISGewvrXI7u",
   "metadata": {
    "id": "7ISGewvrXI7u"
   },
   "outputs": [],
   "source": [
    "# Merge the studentHomerooms with the merged dataset. Make sure that the key you are joining on are the same typecast for both datasets.\n",
    "# Also ensure that there are no redundant columns, and finally display the first few rows.\n",
    "# Hint: try joining on more than one column to avoid having to drop redundant columns, ie. on=['studentID', '<ColumnA>', '<ColumnB>'] ...\n",
    "# (5 marks)\n",
    "#"
   ]
  },
  {
   "cell_type": "code",
   "execution_count": null,
   "id": "aZIl5LCWZ2cL",
   "metadata": {
    "id": "aZIl5LCWZ2cL"
   },
   "outputs": [],
   "source": [
    "# The code below calculates the mean of each homeroom class.\n",
    "df_grouped = df_studentInfo.groupby('homeRoom')['GPA'].mean()\n",
    "\n",
    "# Which homeroom has a higher GPA?\n",
    "# (1 mark)\n",
    "#"
   ]
  },
  {
   "cell_type": "code",
   "execution_count": null,
   "id": "I1EtLRpVkCJt",
   "metadata": {
    "id": "I1EtLRpVkCJt"
   },
   "outputs": [],
   "source": [
    "# Now let's work with multiple sorts. The .sort_values() method can sort by multiple columns, meaning you can specify a primary column and a secondary column for sorting.\n",
    "# For example, by=['ColumnA', 'ColumnB'] will first sort by ColumnA and then by ColumnB.\n",
    "# Create and print a DataFrame, df_studentsGPASorted_homeroom, which is sorted by homeRoom and then by GPA, both in descending order.\n",
    "# (3 mark)\n",
    "#"
   ]
  },
  {
   "cell_type": "code",
   "execution_count": null,
   "id": "7XWCjnSCox1a",
   "metadata": {
    "id": "7XWCjnSCox1a"
   },
   "outputs": [],
   "source": [
    "# Do you notice a problem with the indices? They are basically meaningless now that we have sorted by homeroom and GPA.\n",
    "\n",
    "# The code below changes the index of the dataframe so that it is more intuitive.\n",
    "df_studentsGPASorted_homeroom['studentRank'] = df_studentsGPASorted_homeroom.groupby('homeRoom').cumcount() + 1\n",
    "df_studentsGPASorted_homeroom['newIndex'] = df_studentsGPASorted_homeroom['homeRoom'].astype(str) + '-' + df_studentsGPASorted_homeroom['studentRank'].astype(str)\n",
    "df_studentsGPASorted_homeroom = df_studentsGPASorted_homeroom.set_index('newIndex')\n",
    "df_studentsGPASorted_homeroom = df_studentsGPASorted_homeroom.drop(columns=['studentRank'])\n",
    "\n",
    "print(df_studentsGPASorted_homeroom)"
   ]
  },
  {
   "cell_type": "code",
   "execution_count": null,
   "id": "CUwJVCXfpsdJ",
   "metadata": {
    "id": "CUwJVCXfpsdJ"
   },
   "outputs": [],
   "source": [
    "# Describe what each coding line in the cell above is doing\n",
    "# (4 marks)\n",
    "#"
   ]
  },
  {
   "cell_type": "code",
   "execution_count": null,
   "id": "t1iojeTVqLWW",
   "metadata": {
    "id": "t1iojeTVqLWW"
   },
   "outputs": [],
   "source": [
    "# Given df_studentsGPASorted_homeroom, please find and print the students with the highest GPA in each homeroom using the .loc method.\n",
    "# (2 marks)\n",
    "#"
   ]
  },
  {
   "cell_type": "markdown",
   "id": "6360bc9f-ac32-4d0d-986d-f2cb21d422a9",
   "metadata": {
    "id": "6360bc9f-ac32-4d0d-986d-f2cb21d422a9"
   },
   "source": [
    "## Part 4: Using Matplotlib for Data Analytics\n",
    "### (14 marks)"
   ]
  },
  {
   "cell_type": "code",
   "execution_count": null,
   "id": "44538b76-33d8-466e-8cc1-0936c22b541c",
   "metadata": {
    "id": "44538b76-33d8-466e-8cc1-0936c22b541c"
   },
   "outputs": [],
   "source": [
    "# In the space below, please import the matplotlib library\n",
    "# (1 mark)\n"
   ]
  },
  {
   "cell_type": "code",
   "execution_count": null,
   "id": "995a219d-fa27-4948-a51d-88aad7a24731",
   "metadata": {
    "id": "995a219d-fa27-4948-a51d-88aad7a24731"
   },
   "outputs": [],
   "source": [
    "# Let's use matplotlib to display a histogram of the grades distribution\n",
    "# Histograms are useful for seeing the distribution of the students grades\n",
    "\n",
    "plt.figure(figsize=(10, 6))\n",
    "plt.hist(df_studentGrades['englishGrade'], bins=10, alpha=0.7, label='English Grades', color='blue')\n",
    "\n",
    "# Step 1: Use the line above as reference to create a histogram for the math grades\n",
    "# (1 mark)\n",
    "#\n",
    "\n",
    "# Step 2: Ensure that your plot is descriptive, so use labels (x and y axis), a title, and a legend.\n",
    "# Hint: Use the matplotlib .legend(loc='<location>') to add and place the legend.\n",
    "# You can use 'upper left', 'upper right', 'lower left', and 'lower right' to specify the location.\n",
    "# (4 marks)\n",
    "#\n",
    "plt.grid(True)\n",
    "\n",
    "# Step 3: Use the .savefig('<image_title>'.png) to output an image file of the histogram.\n",
    "# Please be sure to use a descriptive title!\n",
    "# (1 mark)\n",
    "#\n",
    "\n",
    "plt.show()"
   ]
  },
  {
   "cell_type": "code",
   "execution_count": null,
   "id": "631d4d69-dd89-4a31-a857-0f4eb1230bbc",
   "metadata": {
    "id": "631d4d69-dd89-4a31-a857-0f4eb1230bbc"
   },
   "outputs": [],
   "source": [
    "# Let's also use matplotlib to display a scatter plot of English vs. Math grades\n",
    "# Scatter plots are useful for seeing the relationship between two variables\n",
    "plt.figure(figsize=(10, 6))\n",
    "\n",
    "# Step 1: Use .scatter(x_data, y_data) to create a scatter plot using the English grades on the x-axis, and Math grades on the y-axis\n",
    "# (2 mark)\n",
    "#\n",
    "\n",
    "# Step 1: Properly label the x and y axes as well as the title of your plot.\n",
    "# (3 marks)\n",
    "#\n",
    "plt.grid(True)\n",
    "\n",
    "# Step 2: Output an image file for the scatter plot with a descriptive file name\n",
    "# (1 mark)\n",
    "#\n",
    "\n",
    "plt.show()"
   ]
  },
  {
   "cell_type": "code",
   "execution_count": null,
   "id": "B69uvG5uioH0",
   "metadata": {
    "id": "B69uvG5uioH0"
   },
   "outputs": [],
   "source": [
    "# From the scatter plot, is there a relationship between the Math and English grades?\n",
    "# (1 mark)\n",
    "#"
   ]
  }
 ],
 "metadata": {
  "colab": {
   "provenance": []
  },
  "kernelspec": {
   "display_name": "Python 3 (ipykernel)",
   "language": "python",
   "name": "python3"
  },
  "language_info": {
   "codemirror_mode": {
    "name": "ipython",
    "version": 3
   },
   "file_extension": ".py",
   "mimetype": "text/x-python",
   "name": "python",
   "nbconvert_exporter": "python",
   "pygments_lexer": "ipython3",
   "version": "3.10.9"
  }
 },
 "nbformat": 4,
 "nbformat_minor": 5
}
